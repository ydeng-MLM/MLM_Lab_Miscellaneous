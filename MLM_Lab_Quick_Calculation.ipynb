{
  "nbformat": 4,
  "nbformat_minor": 0,
  "metadata": {
    "colab": {
      "name": "MLM_Lab_Quick_Calculation.ipynb",
      "provenance": [],
      "collapsed_sections": [],
      "authorship_tag": "ABX9TyOg2HINnNpWqw80y/WTuzaf",
      "include_colab_link": true
    },
    "kernelspec": {
      "name": "python3",
      "display_name": "Python 3"
    }
  },
  "cells": [
    {
      "cell_type": "markdown",
      "metadata": {
        "id": "view-in-github",
        "colab_type": "text"
      },
      "source": [
        "<a href=\"https://colab.research.google.com/github/ydeng-MLM/MLM_Lab_Miscellaneous/blob/main/MLM_Lab_Quick_Calculation.ipynb\" target=\"_parent\"><img src=\"https://colab.research.google.com/assets/colab-badge.svg\" alt=\"Open In Colab\"/></a>"
      ]
    },
    {
      "cell_type": "code",
      "metadata": {
        "id": "MBpf6T4yld4K"
      },
      "source": [
        "import pandas as pd\n",
        "import numpy as np\n",
        "import matplotlib.pyplot as plt\n",
        "import random\n",
        "from scipy.optimize import curve_fit"
      ],
      "execution_count": null,
      "outputs": []
    },
    {
      "cell_type": "markdown",
      "metadata": {
        "id": "kmC4QZr2anw4"
      },
      "source": [
        "Carrier Density for Common Semiconductors\n"
      ]
    },
    {
      "cell_type": "code",
      "metadata": {
        "id": "_XGP-_y9luV9"
      },
      "source": [
        "'''\n",
        "This is a quick carrier density calculation function for semiconductor materials under photodoping.\n",
        "The default value is from Kebin's paper: \"Phototunable Dielectric Huygens' Metasurfaces\"\n",
        "Original calculation introduced in: \"femtosecond pump-probe reflectivity study of silicon carrier dynamics\"\n",
        "-----------------------------------------------------------------------------------------------------------\n",
        "R: Reflectivity of the material at pumping wavelength\n",
        "E_ph: Photon energy at the pumping wavelength\n",
        "tau: FWHM of the incoming pumping laser pulse\n",
        "f_eff: Incoming laser's fluence\n",
        "alpha: absorption coefficient\n",
        "beta: two-photon absorption coefficient\n",
        "-----------------------------------------------------------------------------------------------------------\n",
        "Usage:\n",
        "Find the corresponding the values for your material, then pass in as function parameter directly when initialized.\n",
        "Keep in mind the result has unit in cm-3\n",
        "'''\n",
        "def carrier_density(R=0.35, f_eff=140e-6, alpha=1020, E_ph=2.48475e-19, beta=6.8e-9, tau=35e-15):\n",
        "  ans = 0\n",
        "  ans = (1-R)*f_eff*((alpha/E_ph)+(beta*(1-R)*f_eff/(2*E_ph*tau)))  #Equation defined here for photodoped carrier density\n",
        "  return ans"
      ],
      "execution_count": null,
      "outputs": []
    },
    {
      "cell_type": "code",
      "metadata": {
        "id": "g8xEhWelws4x",
        "colab": {
          "base_uri": "https://localhost:8080/"
        },
        "outputId": "38a062b3-3559-43cb-d663-40b10a1cfcbc"
      },
      "source": [
        "# Default vlaue is calculated based on Si\n",
        "n = carrier_density()\n",
        "print(n)"
      ],
      "execution_count": null,
      "outputs": [
        {
          "output_type": "stream",
          "text": [
            "3.767962169232317e+17\n"
          ],
          "name": "stdout"
        }
      ]
    },
    {
      "cell_type": "code",
      "metadata": {
        "colab": {
          "base_uri": "https://localhost:8080/"
        },
        "id": "BXYyCGHxmkW8",
        "outputId": "df09f872-3620-4d76-e600-d0ed587b0472"
      },
      "source": [
        "# Estimation of GaAs photodoping carrier density\n",
        "n = carrier_density(R=0.3, f_eff=8e-6, alpha=13520, beta=180e-9,  tau=13.5e-15)\n",
        "print(n)"
      ],
      "execution_count": null,
      "outputs": [
        {
          "output_type": "stream",
          "text": [
            "3.0554811013851155e+17\n"
          ],
          "name": "stdout"
        }
      ]
    },
    {
      "cell_type": "code",
      "metadata": {
        "id": "ueRLApMMouxa",
        "colab": {
          "base_uri": "https://localhost:8080/"
        },
        "outputId": "b6d6a313-3c93-410b-ae9c-df00466d9129"
      },
      "source": [
        "wav = 980e-9\n",
        "c = 3e8\n",
        "h = 6.62e-34\n",
        "f = c/wav \n",
        "E_ph = h*f \n",
        "print(E_ph)\n",
        "\n",
        "n = carrier_density(E_ph=E_ph)\n",
        "print(n)"
      ],
      "execution_count": null,
      "outputs": [
        {
          "output_type": "stream",
          "text": [
            "2.0265306122448983e-19\n",
            "4.619937119838871e+17\n"
          ],
          "name": "stdout"
        }
      ]
    },
    {
      "cell_type": "markdown",
      "metadata": {
        "id": "iR56DjkxbRrJ"
      },
      "source": [
        "Curve Fitting"
      ]
    },
    {
      "cell_type": "code",
      "metadata": {
        "id": "gdI2qW2ragnd"
      },
      "source": [
        "'''\n",
        "A quick example of polynominal curve fitting for plots\n",
        "'''\n",
        "m = np.array((1,2,3,4,5,6,7,8))\n",
        "t = np.array((5.6, 10, 16, 30, 33.9, 64.2, 99.9, 175.5))\n",
        "plt.plot(m,t, '*')\n",
        "plt.xlabel(\"# of mesh per wavelength\")\n",
        "plt.ylabel(\"Simulation time (min)\")\n",
        "\n",
        "def func(x, a, b, c):\n",
        "    return a * np.exp(b * x) + c\n",
        "xdata = m\n",
        "ydata = t\n",
        "\n",
        "popt, pcov = curve_fit(func, xdata, ydata)\n",
        "\n",
        "plt.plot(xdata, func(xdata, *popt), 'r-',label='fit: a=%5.3f, b=%5.3f, c=%5.3f' % tuple(popt))"
      ],
      "execution_count": null,
      "outputs": []
    }
  ]
}